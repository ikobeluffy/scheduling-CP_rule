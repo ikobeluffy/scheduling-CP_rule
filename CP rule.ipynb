{
 "cells": [
  {
   "cell_type": "code",
   "execution_count": 1,
   "metadata": {
    "collapsed": true
   },
   "outputs": [],
   "source": [
    "import numpy as np\n",
    "import pandas as pd"
   ]
  },
  {
   "cell_type": "code",
   "execution_count": 3,
   "metadata": {},
   "outputs": [
    {
     "name": "stdout",
     "output_type": "stream",
     "text": [
      "请输入机器数量：\n",
      "4\n"
     ]
    }
   ],
   "source": [
    "#机器数量\n",
    "print '请输入机器数量：'\n",
    "M=int(raw_input())"
   ]
  },
  {
   "cell_type": "code",
   "execution_count": 6,
   "metadata": {
    "collapsed": true
   },
   "outputs": [],
   "source": [
    "#执行时间\n",
    "pro_time={}\n",
    "df=pd.read_csv('pro_time.csv')\n",
    "for i in range(0,len(df)):\n",
    "    pro_time[str(i+1)]=df.loc[i].p"
   ]
  },
  {
   "cell_type": "code",
   "execution_count": 7,
   "metadata": {
    "collapsed": true
   },
   "outputs": [],
   "source": [
    "#约束条件—用一个字典表示\n",
    "cons={}\n",
    "df=pd.read_csv('file_cons.csv')\n",
    "for i in range(0, len(df)):\n",
    "    cons[str(df.loc[i].pri)] = df.loc[i].next.split()"
   ]
  },
  {
   "cell_type": "code",
   "execution_count": 8,
   "metadata": {
    "collapsed": true
   },
   "outputs": [],
   "source": [
    "#计算起始点和最终点\n",
    "number_p=len(pro_time)\n",
    "all_point=list([str(x) for x in range(1,number_p+1)])\n",
    "l=cons.keys()\n",
    "g=[]\n",
    "start_point=[]\n",
    "end_point=[]\n",
    "for i in l:\n",
    "    g=g+cons[i]\n",
    "g=list(set(g))\n",
    "for i in l:\n",
    "    if i not in g:\n",
    "        start_point.append(i)\n",
    "for i in g:\n",
    "    if i not in l:\n",
    "        end_point.append(i)\n",
    "\n",
    "# print start_point\n",
    "# print end_point\n",
    "\n"
   ]
  },
  {
   "cell_type": "code",
   "execution_count": 9,
   "metadata": {
    "collapsed": true
   },
   "outputs": [],
   "source": [
    "#开始时间，结束时间初始化\n",
    "start_time={}\n",
    "end_time={}\n",
    "for i in all_point:\n",
    "    start_time[i]=0\n",
    "    end_time[i]=0\n",
    "for i in all_point:\n",
    "    end_time[i]=start_time[i]+pro_time[i]\n",
    "\n",
    "def update_time():\n",
    "    for i in cons:\n",
    "        for j in cons[i]:\n",
    "            if end_time[i]>start_time[j]:\n",
    "                start_time[j]=end_time[i]\n",
    "                end_time[j]=start_time[j]+pro_time[j]\n",
    "    return 0"
   ]
  },
  {
   "cell_type": "code",
   "execution_count": 10,
   "metadata": {
    "collapsed": true
   },
   "outputs": [],
   "source": [
    "def find_all_paths(graph, start, end, path=[]):\n",
    "    path = path + [start]\n",
    "    if start == end:\n",
    "        return [path]\n",
    "    if not graph.has_key(start):\n",
    "        return []\n",
    "    paths = []\n",
    "    for node in graph[start]:\n",
    "        if node not in path:\n",
    "            newpaths = find_all_paths(graph, node, end, path)\n",
    "            for newpath in newpaths:\n",
    "                paths.append(newpath)\n",
    "    return paths"
   ]
  },
  {
   "cell_type": "code",
   "execution_count": 11,
   "metadata": {
    "collapsed": true
   },
   "outputs": [],
   "source": [
    "#计算每条路的权重\n",
    "def weight(path,pro_time):\n",
    "    if len(path)!=0:\n",
    "        tot=0\n",
    "        for i in path:\n",
    "            tot=tot+pro_time[i]\n",
    "    else:\n",
    "        return None\n",
    "    return tot"
   ]
  },
  {
   "cell_type": "code",
   "execution_count": 12,
   "metadata": {
    "collapsed": true
   },
   "outputs": [],
   "source": [
    "#计算每个点的权重\n",
    "def max_weight(point,end_point):\n",
    "    max_w=[]\n",
    "    for i in end_point:\n",
    "        for k in find_all_paths(cons, point,i, path=[]):\n",
    "            max_w.append(weight(k,pro_time))\n",
    "    return max(max_w)"
   ]
  },
  {
   "cell_type": "code",
   "execution_count": 13,
   "metadata": {},
   "outputs": [
    {
     "name": "stdout",
     "output_type": "stream",
     "text": [
      "每个作业流的总权重\n",
      "1     30\n",
      "8     22\n",
      "7     22\n",
      "4     22\n",
      "5     21\n",
      "9     20\n",
      "2     20\n",
      "6     10\n",
      "3     10\n",
      "12    10\n",
      "11    10\n",
      "10    10\n",
      "dtype: int64\n"
     ]
    }
   ],
   "source": [
    "L_weight={}\n",
    "for i in all_point:\n",
    "    L_weight[i]=max_weight(i,end_point)\n",
    "\n",
    "S=pd.Series(L_weight)\n",
    "Sorted_p=S.sort_values(ascending=False)\n",
    "\n",
    "list_byweight=Sorted_p.index\n",
    "print '每个作业流的总权重'\n",
    "print Sorted_p"
   ]
  },
  {
   "cell_type": "code",
   "execution_count": 14,
   "metadata": {
    "collapsed": true
   },
   "outputs": [],
   "source": [
    "\n",
    "#机器初始化\n",
    "Machine=[]\n",
    "for i in range(M):\n",
    "    dirc={}\n",
    "    dirc['num']=i+1\n",
    "    dirc['work']=[]\n",
    "    dirc['span_time']=0\n",
    "    Machine.append(dirc)\n",
    "Machine_df=pd.DataFrame(Machine)\n"
   ]
  },
  {
   "cell_type": "code",
   "execution_count": 15,
   "metadata": {
    "collapsed": true
   },
   "outputs": [],
   "source": [
    "\n",
    "#将一项作业插入到机器中\n",
    "def put_into2(work):\n",
    "    l=list(Machine_df['span_time'])\n",
    "    k=l.index(min(l))\n",
    "    a=Machine_df.loc[k,'span_time']\n",
    "    if start_time[work]>a:\n",
    "        a=start_time[work]\n",
    "        Machine_df['work'][k].append('0')\n",
    "    Machine_df['work'][k].append(work)\n",
    "    Machine_df.loc[k,'span_time']=a+pro_time[work]\n",
    "    end_time[work]=Machine_df.loc[k,'span_time']\n",
    "    update_time()\n",
    "    return 0\n"
   ]
  },
  {
   "cell_type": "code",
   "execution_count": 16,
   "metadata": {
    "collapsed": true
   },
   "outputs": [],
   "source": [
    "\n",
    "for i in list_byweight:\n",
    "    put_into2(i)\n"
   ]
  },
  {
   "cell_type": "code",
   "execution_count": 17,
   "metadata": {},
   "outputs": [
    {
     "name": "stdout",
     "output_type": "stream",
     "text": [
      "排程结果（0代表机器空闲）：\n",
      "   num  span_time           work\n",
      "0    1         32   [1, 5, 0, 3]\n",
      "1    2         32     [8, 9, 12]\n",
      "2    3         32     [7, 2, 11]\n",
      "3    4         41  [4, 0, 6, 10]\n"
     ]
    }
   ],
   "source": [
    "\n",
    "print '排程结果（0代表机器空闲）：'\n",
    "print Machine_df"
   ]
  },
  {
   "cell_type": "code",
   "execution_count": 18,
   "metadata": {},
   "outputs": [
    {
     "name": "stdout",
     "output_type": "stream",
     "text": [
      "总完工时间为：\n",
      "41\n"
     ]
    }
   ],
   "source": [
    "print '总完工时间为：'\n",
    "print max(list(Machine_df['span_time']))"
   ]
  },
  {
   "cell_type": "code",
   "execution_count": 19,
   "metadata": {},
   "outputs": [
    {
     "name": "stdout",
     "output_type": "stream",
     "text": [
      "每项作业开始时间：\n",
      "1 : 0\n",
      "2 : 10\n",
      "3 : 22\n",
      "4 : 0\n",
      "5 : 0\n",
      "6 : 21\n",
      "7 : 0\n",
      "8 : 0\n",
      "9 : 0\n",
      "10 : 22\n",
      "11 : 22\n",
      "12 : 22\n"
     ]
    }
   ],
   "source": [
    "print '每项作业开始时间：'\n",
    "for i in all_point:\n",
    "    print i,':',start_time[i]"
   ]
  },
  {
   "cell_type": "code",
   "execution_count": 20,
   "metadata": {},
   "outputs": [
    {
     "name": "stdout",
     "output_type": "stream",
     "text": [
      "每项作业的完成时间：\n",
      "1 : 10\n",
      "2 : 22\n",
      "3 : 32\n",
      "4 : 12\n",
      "5 : 21\n",
      "6 : 31\n",
      "7 : 12\n",
      "8 : 12\n",
      "9 : 22\n",
      "10 : 41\n",
      "11 : 32\n",
      "12 : 32\n"
     ]
    }
   ],
   "source": [
    "print '每项作业的完成时间：'\n",
    "for i in all_point:\n",
    "    print i,':',end_time[i]"
   ]
  },
  {
   "cell_type": "code",
   "execution_count": null,
   "metadata": {
    "collapsed": true
   },
   "outputs": [],
   "source": []
  },
  {
   "cell_type": "code",
   "execution_count": null,
   "metadata": {
    "collapsed": true
   },
   "outputs": [],
   "source": []
  }
 ],
 "metadata": {
  "anaconda-cloud": {},
  "kernelspec": {
   "display_name": "Python [Root]",
   "language": "python",
   "name": "Python [Root]"
  },
  "language_info": {
   "codemirror_mode": {
    "name": "ipython",
    "version": 2
   },
   "file_extension": ".py",
   "mimetype": "text/x-python",
   "name": "python",
   "nbconvert_exporter": "python",
   "pygments_lexer": "ipython2",
   "version": "2.7.13"
  }
 },
 "nbformat": 4,
 "nbformat_minor": 1
}
